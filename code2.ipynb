{
 "cells": [
  {
   "cell_type": "code",
   "execution_count": 1,
   "id": "c2448ffb",
   "metadata": {},
   "outputs": [],
   "source": [
    "\n",
    "import matplotlib.pyplot as plt\n",
    "import numpy as np\n",
    "import random\n",
    "import cv2\n",
    "import os\n",
    "import glob\n",
    "import pandas as pd\n",
    "import numpy as np\n",
    "import seaborn as sns\n",
    "import os\n",
    "from PIL import Image, ImageOps\n",
    "\n",
    "from sklearn.model_selection import train_test_split\n",
    "from sklearn.model_selection import train_test_split\n",
    "from keras.models import Sequential\n",
    "from keras.layers import Conv2D, MaxPooling2D, Activation, Dropout, Flatten, Dense\n",
    "from keras import optimizers\n",
    "from keras.preprocessing.image import ImageDataGenerator\n",
    "from sklearn.metrics import confusion_matrix\n",
    "import itertools"
   ]
  },
  {
   "cell_type": "code",
   "execution_count": 2,
   "id": "b651b6c4",
   "metadata": {},
   "outputs": [],
   "source": [
    "\n",
    "import tensorflow as tf\n",
    "\n",
    "from tensorflow.keras.preprocessing.image import ImageDataGenerator\n",
    "from tensorflow.keras.utils import to_categorical # convert to one-hot-encoding\n",
    "from tensorflow.keras.models import Sequential\n",
    "from tensorflow.keras.layers import Dense, Dropout, Flatten, Conv2D, MaxPool2D, BatchNormalization, InputLayer\n",
    "from tensorflow.keras.optimizers import RMSprop,Adam\n",
    "from tensorflow.keras.preprocessing.image import ImageDataGenerator\n",
    "from tensorflow.keras.callbacks import ReduceLROnPlateau, EarlyStopping\n",
    "from tensorflow.keras.losses import BinaryCrossentropy, SparseCategoricalCrossentropy\n",
    "from tensorflow.keras.preprocessing.image import load_img\n",
    "from tensorflow.keras.preprocessing.image import ImageDataGenerator\n",
    "from tensorflow.keras.optimizers import Adam\n",
    "from tensorflow.keras.preprocessing.image import img_to_array\n",
    "from tensorflow.keras.utils import to_categorical, plot_model\n",
    "from tensorflow.keras.models import Sequential\n",
    "from tensorflow.keras.layers import BatchNormalization, Conv2D, MaxPooling2D, Activation, Flatten, Dropout, Dense\n",
    "from tensorflow.keras import backend as K"
   ]
  },
  {
   "cell_type": "code",
   "execution_count": 3,
   "id": "f9ee8a9b",
   "metadata": {
    "scrolled": true
   },
   "outputs": [
    {
     "name": "stdout",
     "output_type": "stream",
     "text": [
      "Model: \"sequential\"\n",
      "_________________________________________________________________\n",
      " Layer (type)                Output Shape              Param #   \n",
      "=================================================================\n",
      " block1_conv1 (Conv2D)       (None, 128, 128, 64)      1792      \n",
      "                                                                 \n",
      " block1_conv2 (Conv2D)       (None, 128, 128, 64)      36928     \n",
      "                                                                 \n",
      " block1_pool (MaxPooling2D)  (None, 64, 64, 64)        0         \n",
      "                                                                 \n",
      " block2_conv1 (Conv2D)       (None, 64, 64, 128)       73856     \n",
      "                                                                 \n",
      " block2_conv2 (Conv2D)       (None, 64, 64, 128)       147584    \n",
      "                                                                 \n",
      " block2_pool (MaxPooling2D)  (None, 32, 32, 128)       0         \n",
      "                                                                 \n",
      " block3_conv1 (Conv2D)       (None, 32, 32, 256)       295168    \n",
      "                                                                 \n",
      " block3_conv2 (Conv2D)       (None, 32, 32, 256)       590080    \n",
      "                                                                 \n",
      " block3_conv3 (Conv2D)       (None, 32, 32, 256)       590080    \n",
      "                                                                 \n",
      " block3_pool (MaxPooling2D)  (None, 16, 16, 256)       0         \n",
      "                                                                 \n",
      " block4_conv1 (Conv2D)       (None, 16, 16, 512)       1180160   \n",
      "                                                                 \n",
      " block4_conv2 (Conv2D)       (None, 16, 16, 512)       2359808   \n",
      "                                                                 \n",
      " block4_conv3 (Conv2D)       (None, 16, 16, 512)       2359808   \n",
      "                                                                 \n",
      " block4_pool (MaxPooling2D)  (None, 8, 8, 512)         0         \n",
      "                                                                 \n",
      "=================================================================\n",
      "Total params: 7,635,264\n",
      "Trainable params: 7,635,264\n",
      "Non-trainable params: 0\n",
      "_________________________________________________________________\n"
     ]
    }
   ],
   "source": [
    "from keras.layers import Conv2D, UpSampling2D, Input\n",
    "from keras.models import Sequential, Model\n",
    "from keras.preprocessing.image import ImageDataGenerator\n",
    "from skimage.color import rgb2lab, lab2rgb, gray2rgb\n",
    "from skimage.transform import resize\n",
    "from skimage.io import imsave\n",
    "import numpy as np\n",
    "import tensorflow as tf\n",
    "import keras\n",
    "import os\n",
    "\n",
    "from keras.applications.vgg16 import VGG16\n",
    "vggmodel = VGG16(include_top=False,input_shape=(128,128,3),weights=\"imagenet\",classes=2)\n",
    "newmodel = Sequential() \n",
    "\n",
    "for i, layer in enumerate(vggmodel.layers):\n",
    "    if i<15:         \n",
    "      newmodel.add(layer)\n",
    "newmodel.summary()\n",
    "for layer in newmodel.layers:\n",
    "  layer.trainable=False  "
   ]
  },
  {
   "cell_type": "code",
   "execution_count": 4,
   "id": "fc9ffc87",
   "metadata": {},
   "outputs": [
    {
     "name": "stdout",
     "output_type": "stream",
     "text": [
      "Model: \"sequential\"\n",
      "_________________________________________________________________\n",
      " Layer (type)                Output Shape              Param #   \n",
      "=================================================================\n",
      " block1_conv1 (Conv2D)       (None, 128, 128, 64)      1792      \n",
      "                                                                 \n",
      " block1_conv2 (Conv2D)       (None, 128, 128, 64)      36928     \n",
      "                                                                 \n",
      " block1_pool (MaxPooling2D)  (None, 64, 64, 64)        0         \n",
      "                                                                 \n",
      " block2_conv1 (Conv2D)       (None, 64, 64, 128)       73856     \n",
      "                                                                 \n",
      " block2_conv2 (Conv2D)       (None, 64, 64, 128)       147584    \n",
      "                                                                 \n",
      " block2_pool (MaxPooling2D)  (None, 32, 32, 128)       0         \n",
      "                                                                 \n",
      " block3_conv1 (Conv2D)       (None, 32, 32, 256)       295168    \n",
      "                                                                 \n",
      " block3_conv2 (Conv2D)       (None, 32, 32, 256)       590080    \n",
      "                                                                 \n",
      " block3_conv3 (Conv2D)       (None, 32, 32, 256)       590080    \n",
      "                                                                 \n",
      " block3_pool (MaxPooling2D)  (None, 16, 16, 256)       0         \n",
      "                                                                 \n",
      " block4_conv1 (Conv2D)       (None, 16, 16, 512)       1180160   \n",
      "                                                                 \n",
      " block4_conv2 (Conv2D)       (None, 16, 16, 512)       2359808   \n",
      "                                                                 \n",
      " block4_conv3 (Conv2D)       (None, 16, 16, 512)       2359808   \n",
      "                                                                 \n",
      " block4_pool (MaxPooling2D)  (None, 8, 8, 512)         0         \n",
      "                                                                 \n",
      "=================================================================\n",
      "Total params: 7,635,264\n",
      "Trainable params: 0\n",
      "Non-trainable params: 7,635,264\n",
      "_________________________________________________________________\n"
     ]
    }
   ],
   "source": [
    "newmodel.summary()"
   ]
  },
  {
   "cell_type": "code",
   "execution_count": 5,
   "id": "31c8a615",
   "metadata": {},
   "outputs": [
    {
     "name": "stdout",
     "output_type": "stream",
     "text": [
      "Total samples: 23708\n"
     ]
    }
   ],
   "source": [
    "path = \"C:/Users/user/Desktop/Age and Gender/archive/UTKFace/\"\n",
    "path2 =\"C:/Users/user/Desktop/Age and Gender/agegender_data/UTKFace1/\"\n",
    "files = os.listdir(path)\n",
    "size = len(files)\n",
    "print(\"Total samples:\",size)\n"
   ]
  },
  {
   "cell_type": "code",
   "execution_count": 6,
   "id": "8aca7e3d",
   "metadata": {},
   "outputs": [],
   "source": [
    "images =[]\n",
    "age =[]\n",
    "gender =[]\n",
    "for file in files:\n",
    "    im = load_img(path+file)\n",
    "    im = np.array(im)\n",
    "    im= cv2.resize(im,(128,128))\n",
    "    im = np.array(im, dtype=\"float\") / 255.0\n",
    "    split_var = file.split('_')\n",
    "    images.append(im)\n",
    "    age.append(int(split_var[0]))\n",
    "    gender.append(int(split_var[1]))"
   ]
  },
  {
   "cell_type": "code",
   "execution_count": 7,
   "id": "6b1a252c",
   "metadata": {},
   "outputs": [],
   "source": [
    "temp = list(zip(images,age,gender))\n",
    "random.shuffle(temp)\n",
    "shuffled_images,shuffled_age,shuffled_gender =zip(*temp)\n",
    "images.clear()\n",
    "age.clear()\n",
    "gender.clear()"
   ]
  },
  {
   "cell_type": "code",
   "execution_count": 8,
   "id": "f9aafca5",
   "metadata": {},
   "outputs": [],
   "source": [
    "set_1_images = np.array(shuffled_images[:20000])\n",
    "set_1_ages = np.array(shuffled_age[:20000])\n",
    "set_1_gender = np.array(shuffled_gender[:20000])"
   ]
  },
  {
   "cell_type": "code",
   "execution_count": 9,
   "id": "a6674b3e",
   "metadata": {},
   "outputs": [],
   "source": [
    "del shuffled_images\n",
    "del shuffled_age\n",
    "del shuffled_gendera"
   ]
  },
  {
   "cell_type": "code",
   "execution_count": 10,
   "id": "c0319b64",
   "metadata": {},
   "outputs": [],
   "source": [
    "gender_class = to_categorical(set_1_gender, dtype = \"int\",num_classes=2)"
   ]
  },
  {
   "cell_type": "code",
   "execution_count": 11,
   "id": "071749b1",
   "metadata": {},
   "outputs": [],
   "source": [
    "datagen = ImageDataGenerator(\n",
    "        featurewise_center=False,  # set input mean to 0 over the dataset\n",
    "        samplewise_center=False,  # set each sample mean to 0\n",
    "        featurewise_std_normalization=False,  # divide inputs by std of the dataset\n",
    "        samplewise_std_normalization=False,  # divide each input by its std\n",
    "        zca_whitening=False,  # dimesion reduction\n",
    "        rotation_range=30,  # randomly rotate images in the range 5 degrees\n",
    "        zoom_range = 0.1, # Randomly zoom image 10%\n",
    "        width_shift_range=0.1,  # randomly shift images horizontally 10%\n",
    "        height_shift_range=0.1,  # randomly shift images vertically 10%\n",
    "        horizontal_flip=True,  # randomly flip images\n",
    "        vertical_flip=True)  # randomly flip images\n",
    "\n"
   ]
  },
  {
   "cell_type": "code",
   "execution_count": 14,
   "id": "3df0a895",
   "metadata": {},
   "outputs": [],
   "source": [
    "del temp"
   ]
  },
  {
   "cell_type": "code",
   "execution_count": 12,
   "id": "739fed47",
   "metadata": {},
   "outputs": [],
   "source": [
    "datagen.fit(set_1_images)\n",
    "it = datagen.flow(set_1_images,gender_class,batch_size=20000,shuffle=False)"
   ]
  },
  {
   "cell_type": "code",
   "execution_count": 13,
   "id": "9e14b969",
   "metadata": {},
   "outputs": [],
   "source": [
    "set_1_images_agu,gender_class_agu = next(it)"
   ]
  },
  {
   "cell_type": "code",
   "execution_count": 15,
   "id": "92049ee0",
   "metadata": {},
   "outputs": [
    {
     "data": {
      "text/plain": [
       "(20000, 128, 128, 3)"
      ]
     },
     "execution_count": 15,
     "metadata": {},
     "output_type": "execute_result"
    }
   ],
   "source": [
    "set_1_images_agu.shape"
   ]
  },
  {
   "cell_type": "code",
   "execution_count": 15,
   "id": "d3486b29",
   "metadata": {},
   "outputs": [
    {
     "data": {
      "text/plain": [
       "[]"
      ]
     },
     "execution_count": 15,
     "metadata": {},
     "output_type": "execute_result"
    }
   ],
   "source": [
    "set_1_gender=[]\n",
    "set_1_gender"
   ]
  },
  {
   "cell_type": "code",
   "execution_count": 19,
   "id": "df61c619",
   "metadata": {},
   "outputs": [],
   "source": [
    "del temp\n",
    "temp = list(zip(set_1_images_agu,gender_class_agu))\n",
    "random.shuffle(temp)\n",
    "set_1_images_agu,gender_class_agu, =zip(*temp)"
   ]
  },
  {
   "cell_type": "code",
   "execution_count": 32,
   "id": "d2fa547d",
   "metadata": {},
   "outputs": [],
   "source": [
    "set_train_images = np.concatenate([set_1_images_agu[10000:],set_1_images[:10000] ])\n",
    "set_train_gender = np.concatenate([gender_class_agu[10000:],gender_class[:10000] ])"
   ]
  },
  {
   "cell_type": "code",
   "execution_count": 33,
   "id": "5ce2c274",
   "metadata": {},
   "outputs": [],
   "source": [
    "del temp\n",
    "temp = list(zip(set_train_images,set_train_gender))\n",
    "random.shuffle(temp)\n",
    "set_train_images,set_train_gender=zip(*temp)"
   ]
  },
  {
   "cell_type": "code",
   "execution_count": 34,
   "id": "8e705b3e",
   "metadata": {},
   "outputs": [],
   "source": [
    "set_train_gender = np.array(set_train_gender)\n",
    "set_train_images = np.array(set_train_images)"
   ]
  },
  {
   "cell_type": "code",
   "execution_count": 18,
   "id": "204e48cd",
   "metadata": {},
   "outputs": [],
   "source": []
  },
  {
   "cell_type": "code",
   "execution_count": 35,
   "id": "49c0fa60",
   "metadata": {},
   "outputs": [],
   "source": [
    "\n",
    "def my_train_test_split(X, Y, train_ratio=0.8):\n",
    "    \"\"\"return X_train, Y_train, X_test, Y_test\"\"\"\n",
    "    n = X.shape[0]\n",
    "    split = int(n * train_ratio)\n",
    "    index = np.arange(n)\n",
    "    np.random.shuffle(index)\n",
    "    return X[index[:split]], Y[index[:split]], X[index[split:]], Y[index[split:]]\n",
    "\n",
    "x_train ,y_train,x_test,y_test = my_train_test_split(set_train_images,set_train_gender)"
   ]
  },
  {
   "cell_type": "code",
   "execution_count": 36,
   "id": "03f2dac9",
   "metadata": {
    "scrolled": true
   },
   "outputs": [
    {
     "name": "stdout",
     "output_type": "stream",
     "text": [
      "500/500 [==============================] - 314s 627ms/step\n"
     ]
    }
   ],
   "source": [
    "x_train_predicted = newmodel.predict(x_train)"
   ]
  },
  {
   "cell_type": "code",
   "execution_count": 37,
   "id": "c474394b",
   "metadata": {},
   "outputs": [
    {
     "name": "stdout",
     "output_type": "stream",
     "text": [
      "125/125 [==============================] - 78s 619ms/step\n"
     ]
    }
   ],
   "source": [
    "x_test_predicted = newmodel.predict(x_test)"
   ]
  },
  {
   "cell_type": "code",
   "execution_count": 38,
   "id": "b46e583c",
   "metadata": {},
   "outputs": [
    {
     "name": "stdout",
     "output_type": "stream",
     "text": [
      "Model: \"sequential_3\"\n",
      "_________________________________________________________________\n",
      " Layer (type)                Output Shape              Param #   \n",
      "=================================================================\n",
      " conv2d_6 (Conv2D)           (None, 8, 8, 64)          294976    \n",
      "                                                                 \n",
      " batch_normalization_4 (Batc  (None, 8, 8, 64)         256       \n",
      " hNormalization)                                                 \n",
      "                                                                 \n",
      " conv2d_7 (Conv2D)           (None, 8, 8, 64)          36928     \n",
      "                                                                 \n",
      " batch_normalization_5 (Batc  (None, 8, 8, 64)         256       \n",
      " hNormalization)                                                 \n",
      "                                                                 \n",
      " conv2d_8 (Conv2D)           (None, 8, 8, 32)          18464     \n",
      "                                                                 \n",
      " flatten_2 (Flatten)         (None, 2048)              0         \n",
      "                                                                 \n",
      " dense_4 (Dense)             (None, 256)               524544    \n",
      "                                                                 \n",
      " dropout_2 (Dropout)         (None, 256)               0         \n",
      "                                                                 \n",
      " dense_5 (Dense)             (None, 2)                 514       \n",
      "                                                                 \n",
      "=================================================================\n",
      "Total params: 875,938\n",
      "Trainable params: 875,682\n",
      "Non-trainable params: 256\n",
      "_________________________________________________________________\n"
     ]
    }
   ],
   "source": [
    "def my_model(num_classes, activation, loss):\n",
    "    model = Sequential() \n",
    "    model.add(Conv2D(64, kernel_size=(3, 3), activation='relu', padding = \"same\", input_shape=(8,8,512)))\n",
    "    model.add(BatchNormalization())\n",
    "    model.add(Conv2D(64, kernel_size=(3, 3), activation='relu', padding = \"same\"))\n",
    "    model.add(BatchNormalization())\n",
    "    model.add(Conv2D(32, kernel_size=(3, 3), activation='relu', padding = \"same\"))\n",
    "    model.add(Flatten())\n",
    "    model.add(Dense(256, activation='relu'))\n",
    "    model.add(Dropout(0.5))\n",
    "    model.add(Dense(num_classes, activation= activation))\n",
    "    model.compile(optimizer='Adam',\n",
    "              loss= loss,\n",
    "              metrics=['accuracy'])\n",
    "    return model\n",
    "model =  my_model(2,\"softmax\",'categorical_crossentropy')\n",
    "model.summary()"
   ]
  },
  {
   "cell_type": "code",
   "execution_count": 39,
   "id": "a20ffdf9",
   "metadata": {},
   "outputs": [],
   "source": [
    "early_stopping = EarlyStopping(patience=10, min_delta=0.001,restore_best_weights=True)\n",
    "\n",
    "learning_rate_reduction = ReduceLROnPlateau(monitor='val_acc', patience=3, verbose=1, \n",
    "                                            factor=0.5, min_lr=0.00001)"
   ]
  },
  {
   "cell_type": "code",
   "execution_count": 40,
   "id": "41e7d9f6",
   "metadata": {},
   "outputs": [],
   "source": [
    "epochs = 50  # for better result increase the epochs\n",
    "batch_size = 64"
   ]
  },
  {
   "cell_type": "code",
   "execution_count": 41,
   "id": "479d3ced",
   "metadata": {},
   "outputs": [
    {
     "name": "stdout",
     "output_type": "stream",
     "text": [
      "Epoch 1/50\n",
      "250/250 [==============================] - 13s 52ms/step - loss: 0.4493 - accuracy: 0.7962 - val_loss: 0.3299 - val_accuracy: 0.8570\n",
      "Epoch 2/50\n",
      "250/250 [==============================] - 13s 52ms/step - loss: 0.3077 - accuracy: 0.8673 - val_loss: 0.3190 - val_accuracy: 0.8533\n",
      "Epoch 3/50\n",
      "250/250 [==============================] - 13s 51ms/step - loss: 0.2569 - accuracy: 0.8927 - val_loss: 0.3341 - val_accuracy: 0.8558\n",
      "Epoch 4/50\n",
      "250/250 [==============================] - 13s 51ms/step - loss: 0.2056 - accuracy: 0.9176 - val_loss: 0.3796 - val_accuracy: 0.8422\n",
      "Epoch 5/50\n",
      "250/250 [==============================] - 13s 51ms/step - loss: 0.1789 - accuracy: 0.9317 - val_loss: 0.3369 - val_accuracy: 0.8773\n",
      "Epoch 6/50\n",
      "250/250 [==============================] - 13s 51ms/step - loss: 0.1416 - accuracy: 0.9450 - val_loss: 0.3697 - val_accuracy: 0.8737\n",
      "Epoch 7/50\n",
      "250/250 [==============================] - 13s 51ms/step - loss: 0.1291 - accuracy: 0.9509 - val_loss: 0.5067 - val_accuracy: 0.8397\n",
      "Epoch 8/50\n",
      "250/250 [==============================] - 13s 51ms/step - loss: 0.0974 - accuracy: 0.9638 - val_loss: 0.4843 - val_accuracy: 0.8698\n",
      "Epoch 9/50\n",
      "250/250 [==============================] - 13s 54ms/step - loss: 0.0895 - accuracy: 0.9663 - val_loss: 0.4667 - val_accuracy: 0.8680\n",
      "Epoch 10/50\n",
      "250/250 [==============================] - 12s 49ms/step - loss: 0.0746 - accuracy: 0.9732 - val_loss: 0.5984 - val_accuracy: 0.8675\n",
      "Epoch 11/50\n",
      "250/250 [==============================] - 12s 49ms/step - loss: 0.0560 - accuracy: 0.9789 - val_loss: 0.5015 - val_accuracy: 0.8813\n",
      "Epoch 12/50\n",
      "250/250 [==============================] - 13s 53ms/step - loss: 0.0574 - accuracy: 0.9791 - val_loss: 0.5982 - val_accuracy: 0.8695\n"
     ]
    }
   ],
   "source": [
    "model_gender = my_model(2,\"softmax\",'categorical_crossentropy')\n",
    "fit_gender = model_gender.fit(x_train_predicted,y_train , batch_size=batch_size,\n",
    "                              epochs = epochs, validation_data = (x_test_predicted,y_test), steps_per_epoch= x_train_predicted.shape[0] // batch_size, callbacks= [early_stopping])"
   ]
  },
  {
   "cell_type": "code",
   "execution_count": 42,
   "id": "77b26b3b",
   "metadata": {},
   "outputs": [
    {
     "data": {
      "text/plain": [
       "<matplotlib.image.AxesImage at 0x276317ecfa0>"
      ]
     },
     "execution_count": 42,
     "metadata": {},
     "output_type": "execute_result"
    },
    {
     "data": {
      "image/png": "[encoded data removed]",
      "text/plain": [
       "<Figure size 432x288 with 1 Axes>"
      ]
     },
     "metadata": {
      "needs_background": "light"
     },
     "output_type": "display_data"
    }
   ],
   "source": [
    "plt.imshow(x_test[11])"
   ]
  },
  {
   "cell_type": "code",
   "execution_count": 43,
   "id": "e45e22d3",
   "metadata": {},
   "outputs": [
    {
     "data": {
      "text/plain": [
       "array([0, 1])"
      ]
     },
     "execution_count": 43,
     "metadata": {},
     "output_type": "execute_result"
    }
   ],
   "source": [
    "y_test[11]"
   ]
  },
  {
   "cell_type": "code",
   "execution_count": 44,
   "id": "78c3848c",
   "metadata": {},
   "outputs": [
    {
     "name": "stdout",
     "output_type": "stream",
     "text": [
      "1/1 [==============================] - 0s 120ms/step\n",
      "1/1 [==============================] - 0s 62ms/step\n"
     ]
    }
   ],
   "source": [
    "ans = model_gender.predict(newmodel.predict(x_test[11].reshape(1,128,128,3)))"
   ]
  },
  {
   "cell_type": "code",
   "execution_count": 45,
   "id": "7653f3a3",
   "metadata": {},
   "outputs": [
    {
     "data": {
      "text/plain": [
       "1"
      ]
     },
     "execution_count": 45,
     "metadata": {},
     "output_type": "execute_result"
    }
   ],
   "source": [
    "ans = np.argmax(ans)\n",
    "ans"
   ]
  },
  {
   "cell_type": "code",
   "execution_count": 47,
   "id": "6fb0e70a",
   "metadata": {},
   "outputs": [
    {
     "name": "stderr",
     "output_type": "stream",
     "text": [
      "WARNING:absl:Found untraced functions such as _jit_compiled_convolution_op, _jit_compiled_convolution_op, _jit_compiled_convolution_op while saving (showing 3 of 3). These functions will not be directly callable after loading.\n"
     ]
    },
    {
     "name": "stdout",
     "output_type": "stream",
     "text": [
      "INFO:tensorflow:Assets written to: gender_model_128.model\\assets\n"
     ]
    },
    {
     "name": "stderr",
     "output_type": "stream",
     "text": [
      "INFO:tensorflow:Assets written to: gender_model_128.model\\assets\n"
     ]
    }
   ],
   "source": [
    "model_gender.save(\"gender_model_128.model\")"
   ]
  },
  {
   "cell_type": "code",
   "execution_count": null,
   "id": "b19a8f73",
   "metadata": {},
   "outputs": [],
   "source": [
    "plt.style.use(\"ggplot\")\n",
    "plt.figure()\n",
    "N = 15\n",
    "plt.plot(np.arange(0,N), fit_gender.history[\"loss\"], label=\"train_loss\")\n",
    "plt.plot(np.arange(0,N), fit_gender.history[\"val_loss\"], label=\"val_loss\")\n",
    "plt.plot(np.arange(0,N), fit_gender.history[\"accuracy\"], label=\"train_acc\")\n",
    "plt.plot(np.arange(0,N), fit_gender.history[\"val_accuracy\"], label=\"val_acc\")\n",
    "\n",
    "plt.title(\"Training Loss and Accuracy for gender model\")\n",
    "plt.xlabel(\"Epoch #\")\n",
    "plt.ylabel(\"Loss/Accuracy\")\n",
    "plt.legend(loc=\"upper right\")\n",
    "\n",
    "# save plot to disk\n",
    "plt.savefig('gender_results.png')"
   ]
  },
  {
   "cell_type": "code",
   "execution_count": null,
   "id": "38f2b806",
   "metadata": {},
   "outputs": [],
   "source": []
  }
 ],
 "metadata": {
  "kernelspec": {
   "display_name": "Python 3 (ipykernel)",
   "language": "python",
   "name": "python3"
  },
  "language_info": {
   "codemirror_mode": {
    "name": "ipython",
    "version": 3
   },
   "file_extension": ".py",
   "mimetype": "text/x-python",
   "name": "python",
   "nbconvert_exporter": "python",
   "pygments_lexer": "ipython3",
   "version": "3.9.7"
  }
 },
 "nbformat": 4,
 "nbformat_minor": 5
}
