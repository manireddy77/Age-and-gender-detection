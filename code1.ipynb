{
 "cells": [
  {
   "cell_type": "code",
   "execution_count": 46,
   "id": "c2448ffb",
   "metadata": {},
   "outputs": [],
   "source": [
    "\n",
    "import matplotlib.pyplot as plt\n",
    "import numpy as np\n",
    "import random\n",
    "import cv2\n",
    "import os\n",
    "import glob\n",
    "import pandas as pd\n",
    "import numpy as np\n",
    "import seaborn as sns\n",
    "import os\n",
    "from PIL import Image, ImageOps\n",
    "\n",
    "from sklearn.model_selection import train_test_split\n",
    "from sklearn.model_selection import train_test_split\n",
    "from keras.models import Sequential\n",
    "from keras.layers import Conv2D, MaxPooling2D, Activation, Dropout, Flatten, Dense\n",
    "from keras import optimizers\n",
    "from keras.preprocessing.image import ImageDataGenerator\n",
    "from sklearn.metrics import confusion_matrix\n",
    "import itertools"
   ]
  },
  {
   "cell_type": "code",
   "execution_count": 47,
   "id": "b651b6c4",
   "metadata": {},
   "outputs": [],
   "source": [
    "\n",
    "import tensorflow as tf\n",
    "\n",
    "from tensorflow.keras.preprocessing.image import ImageDataGenerator\n",
    "from tensorflow.keras.utils import to_categorical # convert to one-hot-encoding\n",
    "from tensorflow.keras.models import Sequential\n",
    "from tensorflow.keras.layers import Dense, Dropout, Flatten, Conv2D, MaxPool2D, BatchNormalization, InputLayer\n",
    "from tensorflow.keras.optimizers import RMSprop,Adam\n",
    "from tensorflow.keras.preprocessing.image import ImageDataGenerator\n",
    "from tensorflow.keras.callbacks import ReduceLROnPlateau, EarlyStopping\n",
    "from tensorflow.keras.losses import BinaryCrossentropy, SparseCategoricalCrossentropy\n",
    "from tensorflow.keras.preprocessing.image import load_img\n",
    "from tensorflow.keras.preprocessing.image import ImageDataGenerator\n",
    "from tensorflow.keras.optimizers import Adam\n",
    "from tensorflow.keras.preprocessing.image import img_to_array\n",
    "from tensorflow.keras.utils import to_categorical, plot_model\n",
    "from tensorflow.keras.models import Sequential\n",
    "from tensorflow.keras.layers import BatchNormalization, Conv2D, MaxPooling2D, Activation, Flatten, Dropout, Dense\n",
    "from tensorflow.keras import backend as K"
   ]
  },
  {
   "cell_type": "code",
   "execution_count": 44,
   "id": "f9ee8a9b",
   "metadata": {
    "scrolled": true
   },
   "outputs": [
    {
     "name": "stdout",
     "output_type": "stream",
     "text": [
      "Model: \"sequential_29\"\n",
      "_________________________________________________________________\n",
      " Layer (type)                Output Shape              Param #   \n",
      "=================================================================\n",
      " block1_conv1 (Conv2D)       (None, 64, 64, 64)        1792      \n",
      "                                                                 \n",
      " block1_conv2 (Conv2D)       (None, 64, 64, 64)        36928     \n",
      "                                                                 \n",
      " block1_pool (MaxPooling2D)  (None, 32, 32, 64)        0         \n",
      "                                                                 \n",
      " block2_conv1 (Conv2D)       (None, 32, 32, 128)       73856     \n",
      "                                                                 \n",
      " block2_conv2 (Conv2D)       (None, 32, 32, 128)       147584    \n",
      "                                                                 \n",
      " block2_pool (MaxPooling2D)  (None, 16, 16, 128)       0         \n",
      "                                                                 \n",
      " block3_conv1 (Conv2D)       (None, 16, 16, 256)       295168    \n",
      "                                                                 \n",
      " block3_conv2 (Conv2D)       (None, 16, 16, 256)       590080    \n",
      "                                                                 \n",
      " block3_conv3 (Conv2D)       (None, 16, 16, 256)       590080    \n",
      "                                                                 \n",
      " block3_pool (MaxPooling2D)  (None, 8, 8, 256)         0         \n",
      "                                                                 \n",
      " block4_conv1 (Conv2D)       (None, 8, 8, 512)         1180160   \n",
      "                                                                 \n",
      " block4_conv2 (Conv2D)       (None, 8, 8, 512)         2359808   \n",
      "                                                                 \n",
      " block4_conv3 (Conv2D)       (None, 8, 8, 512)         2359808   \n",
      "                                                                 \n",
      " block4_pool (MaxPooling2D)  (None, 4, 4, 512)         0         \n",
      "                                                                 \n",
      "=================================================================\n",
      "Total params: 7,635,264\n",
      "Trainable params: 7,635,264\n",
      "Non-trainable params: 0\n",
      "_________________________________________________________________\n"
     ]
    }
   ],
   "source": [
    "from keras.layers import Conv2D, UpSampling2D, Input\n",
    "from keras.models import Sequential, Model\n",
    "from keras.preprocessing.image import ImageDataGenerator\n",
    "from skimage.color import rgb2lab, lab2rgb, gray2rgb\n",
    "from skimage.transform import resize\n",
    "from skimage.io import imsave\n",
    "import numpy as np\n",
    "import tensorflow as tf\n",
    "import keras\n",
    "import os\n",
    "\n",
    "from keras.applications.vgg16 import VGG16\n",
    "vggmodel = VGG16(include_top=False,input_shape=(64,64,3),weights=\"imagenet\",classes=2)\n",
    "newmodel = Sequential() \n",
    "\n",
    "for i, layer in enumerate(vggmodel.layers):\n",
    "    if i<15:         \n",
    "      newmodel.add(layer)\n",
    "newmodel.summary()\n",
    "for layer in newmodel.layers:\n",
    "  layer.trainable=False  "
   ]
  },
  {
   "cell_type": "code",
   "execution_count": 57,
   "id": "fc9ffc87",
   "metadata": {},
   "outputs": [
    {
     "name": "stdout",
     "output_type": "stream",
     "text": [
      "Model: \"sequential_29\"\n",
      "_________________________________________________________________\n",
      " Layer (type)                Output Shape              Param #   \n",
      "=================================================================\n",
      " block1_conv1 (Conv2D)       (None, 64, 64, 64)        1792      \n",
      "                                                                 \n",
      " block1_conv2 (Conv2D)       (None, 64, 64, 64)        36928     \n",
      "                                                                 \n",
      " block1_pool (MaxPooling2D)  (None, 32, 32, 64)        0         \n",
      "                                                                 \n",
      " block2_conv1 (Conv2D)       (None, 32, 32, 128)       73856     \n",
      "                                                                 \n",
      " block2_conv2 (Conv2D)       (None, 32, 32, 128)       147584    \n",
      "                                                                 \n",
      " block2_pool (MaxPooling2D)  (None, 16, 16, 128)       0         \n",
      "                                                                 \n",
      " block3_conv1 (Conv2D)       (None, 16, 16, 256)       295168    \n",
      "                                                                 \n",
      " block3_conv2 (Conv2D)       (None, 16, 16, 256)       590080    \n",
      "                                                                 \n",
      " block3_conv3 (Conv2D)       (None, 16, 16, 256)       590080    \n",
      "                                                                 \n",
      " block3_pool (MaxPooling2D)  (None, 8, 8, 256)         0         \n",
      "                                                                 \n",
      " block4_conv1 (Conv2D)       (None, 8, 8, 512)         1180160   \n",
      "                                                                 \n",
      " block4_conv2 (Conv2D)       (None, 8, 8, 512)         2359808   \n",
      "                                                                 \n",
      " block4_conv3 (Conv2D)       (None, 8, 8, 512)         2359808   \n",
      "                                                                 \n",
      " block4_pool (MaxPooling2D)  (None, 4, 4, 512)         0         \n",
      "                                                                 \n",
      "=================================================================\n",
      "Total params: 7,635,264\n",
      "Trainable params: 0\n",
      "Non-trainable params: 7,635,264\n",
      "_________________________________________________________________\n"
     ]
    }
   ],
   "source": [
    "newmodel.summary()"
   ]
  },
  {
   "cell_type": "code",
   "execution_count": 41,
   "id": "31c8a615",
   "metadata": {},
   "outputs": [
    {
     "name": "stdout",
     "output_type": "stream",
     "text": [
      "Total samples: 23708\n"
     ]
    }
   ],
   "source": [
    "path = \"C:/Users/user/Desktop/Age and Gender/archive/UTKFace/\"\n",
    "path2 =\"C:/Users/user/Desktop/Age and Gender/agegender_data/UTKFace1/\"\n",
    "files = os.listdir(path)\n",
    "size = len(files)\n",
    "print(\"Total samples:\",size)\n"
   ]
  },
  {
   "cell_type": "code",
   "execution_count": 48,
   "id": "8aca7e3d",
   "metadata": {},
   "outputs": [],
   "source": [
    "images =[]\n",
    "age =[]\n",
    "gender =[]\n",
    "for file in files:\n",
    "    im = load_img(path+file)\n",
    "    im = np.array(im)\n",
    "    im= cv2.resize(im,(64,64))\n",
    "    im = np.array(im, dtype=\"float\") / 255.0\n",
    "    split_var = file.split('_')\n",
    "    images.append(im)\n",
    "    age.append(int(split_var[0]))\n",
    "    gender.append(int(split_var[1]))"
   ]
  },
  {
   "cell_type": "code",
   "execution_count": 50,
   "id": "6b1a252c",
   "metadata": {},
   "outputs": [],
   "source": [
    "temp = list(zip(images,age,gender))\n",
    "random.shuffle(temp)\n",
    "shuffled_images,huffled_age,shuffled_gender =zip(*temp)\n"
   ]
  },
  {
   "cell_type": "code",
   "execution_count": 54,
   "id": "f9aafca5",
   "metadata": {},
   "outputs": [],
   "source": [
    "set_1_images = np.array(images[:20000])\n",
    "set_1_ages = np.array(age[:20000])\n",
    "set_1_gender = np.array(gender[:20000])"
   ]
  },
  {
   "cell_type": "code",
   "execution_count": 55,
   "id": "c0319b64",
   "metadata": {},
   "outputs": [],
   "source": [
    "gender_class = to_categorical(set_1_gender, dtype = \"int\",num_classes=2)"
   ]
  },
  {
   "cell_type": "code",
   "execution_count": 56,
   "id": "49c0fa60",
   "metadata": {},
   "outputs": [],
   "source": [
    "\n",
    "def my_train_test_split(X, Y, train_ratio=0.8):\n",
    "    \"\"\"return X_train, Y_train, X_test, Y_test\"\"\"\n",
    "    n = X.shape[0]\n",
    "    split = int(n * train_ratio)\n",
    "    index = np.arange(n)\n",
    "    np.random.shuffle(index)\n",
    "    return X[index[:split]], Y[index[:split]], X[index[split:]], Y[index[split:]]\n",
    "\n",
    "x_train ,y_train,x_test,y_test = my_train_test_split(set_1_images,gender_class)"
   ]
  },
  {
   "cell_type": "code",
   "execution_count": 58,
   "id": "03f2dac9",
   "metadata": {},
   "outputs": [
    {
     "name": "stdout",
     "output_type": "stream",
     "text": [
      "500/500 [==============================] - 92s 182ms/step\n"
     ]
    }
   ],
   "source": [
    "x_train_predicted = newmodel.predict(x_train)"
   ]
  },
  {
   "cell_type": "code",
   "execution_count": 70,
   "id": "c474394b",
   "metadata": {},
   "outputs": [
    {
     "name": "stdout",
     "output_type": "stream",
     "text": [
      "125/125 [==============================] - 20s 162ms/step\n"
     ]
    }
   ],
   "source": [
    "x_test_predicted = newmodel.predict(x_test)"
   ]
  },
  {
   "cell_type": "code",
   "execution_count": 72,
   "id": "b46e583c",
   "metadata": {},
   "outputs": [
    {
     "name": "stdout",
     "output_type": "stream",
     "text": [
      "Model: \"sequential_35\"\n",
      "_________________________________________________________________\n",
      " Layer (type)                Output Shape              Param #   \n",
      "=================================================================\n",
      " conv2d_2365 (Conv2D)        (None, 4, 4, 64)          294976    \n",
      "                                                                 \n",
      " batch_normalization_2360 (B  (None, 4, 4, 64)         256       \n",
      " atchNormalization)                                              \n",
      "                                                                 \n",
      " conv2d_2366 (Conv2D)        (None, 4, 4, 64)          36928     \n",
      "                                                                 \n",
      " batch_normalization_2361 (B  (None, 4, 4, 64)         256       \n",
      " atchNormalization)                                              \n",
      "                                                                 \n",
      " conv2d_2367 (Conv2D)        (None, 4, 4, 32)          18464     \n",
      "                                                                 \n",
      " flatten_3 (Flatten)         (None, 512)               0         \n",
      "                                                                 \n",
      " dense_6 (Dense)             (None, 256)               131328    \n",
      "                                                                 \n",
      " dropout_3 (Dropout)         (None, 256)               0         \n",
      "                                                                 \n",
      " dense_7 (Dense)             (None, 2)                 514       \n",
      "                                                                 \n",
      "=================================================================\n",
      "Total params: 482,722\n",
      "Trainable params: 482,466\n",
      "Non-trainable params: 256\n",
      "_________________________________________________________________\n"
     ]
    }
   ],
   "source": [
    "def my_model(num_classes, activation, loss):\n",
    "    model = Sequential() \n",
    "    model.add(Conv2D(64, kernel_size=(3, 3), activation='relu', padding = \"same\", input_shape=(4,4,512)))\n",
    "    model.add(BatchNormalization())\n",
    "    model.add(Conv2D(64, kernel_size=(3, 3), activation='relu', padding = \"same\"))\n",
    "    model.add(BatchNormalization())\n",
    "    model.add(Conv2D(32, kernel_size=(3, 3), activation='relu', padding = \"same\"))\n",
    "    model.add(Flatten())\n",
    "    model.add(Dense(256, activation='relu'))\n",
    "    model.add(Dropout(0.5))\n",
    "    model.add(Dense(num_classes, activation= activation))\n",
    "    model.compile(optimizer='Adam',\n",
    "              loss= loss,\n",
    "              metrics=['accuracy'])\n",
    "    return model\n",
    "model =  my_model(2,\"softmax\",'categorical_crossentropy')\n",
    "model.summary()"
   ]
  },
  {
   "cell_type": "code",
   "execution_count": 67,
   "id": "a20ffdf9",
   "metadata": {},
   "outputs": [],
   "source": [
    "early_stopping = EarlyStopping(patience=10, min_delta=0.001,restore_best_weights=True)\n",
    "\n",
    "learning_rate_reduction = ReduceLROnPlateau(monitor='val_acc', patience=3, verbose=1, \n",
    "                                            factor=0.5, min_lr=0.00001)"
   ]
  },
  {
   "cell_type": "code",
   "execution_count": 61,
   "id": "41e7d9f6",
   "metadata": {},
   "outputs": [],
   "source": [
    "epochs = 50  # for better result increase the epochs\n",
    "batch_size = 64"
   ]
  },
  {
   "cell_type": "code",
   "execution_count": 73,
   "id": "479d3ced",
   "metadata": {},
   "outputs": [
    {
     "name": "stdout",
     "output_type": "stream",
     "text": [
      "Epoch 1/200\n",
      "250/250 [==============================] - 10s 37ms/step - loss: 0.3474 - accuracy: 0.8464 - val_loss: 0.2777 - val_accuracy: 0.8798\n",
      "Epoch 2/200\n",
      "250/250 [==============================] - 9s 36ms/step - loss: 0.2486 - accuracy: 0.8979 - val_loss: 0.2713 - val_accuracy: 0.8865\n",
      "Epoch 3/200\n",
      "250/250 [==============================] - 9s 35ms/step - loss: 0.2215 - accuracy: 0.9065 - val_loss: 0.2462 - val_accuracy: 0.8942\n",
      "Epoch 4/200\n",
      "250/250 [==============================] - 9s 36ms/step - loss: 0.2076 - accuracy: 0.9136 - val_loss: 0.3121 - val_accuracy: 0.8795\n",
      "Epoch 5/200\n",
      "250/250 [==============================] - 9s 36ms/step - loss: 0.1796 - accuracy: 0.9294 - val_loss: 0.2641 - val_accuracy: 0.8935\n",
      "Epoch 6/200\n",
      "250/250 [==============================] - 9s 36ms/step - loss: 0.1620 - accuracy: 0.9358 - val_loss: 0.2965 - val_accuracy: 0.8920\n",
      "Epoch 7/200\n",
      "250/250 [==============================] - 9s 36ms/step - loss: 0.1526 - accuracy: 0.9389 - val_loss: 0.3140 - val_accuracy: 0.8745\n",
      "Epoch 8/200\n",
      "250/250 [==============================] - 9s 36ms/step - loss: 0.1331 - accuracy: 0.9501 - val_loss: 0.3056 - val_accuracy: 0.8865\n",
      "Epoch 9/200\n",
      "250/250 [==============================] - 9s 36ms/step - loss: 0.1249 - accuracy: 0.9509 - val_loss: 0.2922 - val_accuracy: 0.8975\n",
      "Epoch 10/200\n",
      "250/250 [==============================] - 9s 36ms/step - loss: 0.1142 - accuracy: 0.9564 - val_loss: 0.3200 - val_accuracy: 0.8957\n",
      "Epoch 11/200\n",
      "250/250 [==============================] - 9s 36ms/step - loss: 0.0989 - accuracy: 0.9622 - val_loss: 0.2808 - val_accuracy: 0.9010\n",
      "Epoch 12/200\n",
      "250/250 [==============================] - 9s 36ms/step - loss: 0.0895 - accuracy: 0.9655 - val_loss: 0.3190 - val_accuracy: 0.9013\n",
      "Epoch 13/200\n",
      "250/250 [==============================] - 9s 36ms/step - loss: 0.0910 - accuracy: 0.9642 - val_loss: 0.3494 - val_accuracy: 0.8848\n"
     ]
    }
   ],
   "source": [
    "model_gender = my_model(2,\"softmax\",'categorical_crossentropy')\n",
    "fit_gender = model_gender.fit(x_train_predicted,y_train , batch_size=batch_size,\n",
    "                              epochs = epochs, validation_data = (x_test_predicted,y_test), steps_per_epoch= x_train_predicted.shape[0] // batch_size, callbacks= [early_stopping])"
   ]
  },
  {
   "cell_type": "code",
   "execution_count": 81,
   "id": "77b26b3b",
   "metadata": {},
   "outputs": [
    {
     "data": {
      "text/plain": [
       "<matplotlib.image.AxesImage at 0x1d821081df0>"
      ]
     },
     "execution_count": 81,
     "metadata": {},
     "output_type": "execute_result"
    },
    {
     "data": {
      "image/png": "[encoded data removed]",
      "text/plain": [
       "<Figure size 432x288 with 1 Axes>"
      ]
     },
     "metadata": {
      "needs_background": "light"
     },
     "output_type": "display_data"
    }
   ],
   "source": [
    "plt.imshow(x_test[11])"
   ]
  },
  {
   "cell_type": "code",
   "execution_count": 82,
   "id": "e45e22d3",
   "metadata": {},
   "outputs": [
    {
     "data": {
      "text/plain": [
       "array([0, 1])"
      ]
     },
     "execution_count": 82,
     "metadata": {},
     "output_type": "execute_result"
    }
   ],
   "source": [
    "y_test[11]"
   ]
  },
  {
   "cell_type": "code",
   "execution_count": 83,
   "id": "78c3848c",
   "metadata": {},
   "outputs": [
    {
     "name": "stdout",
     "output_type": "stream",
     "text": [
      "1/1 [==============================] - 0s 39ms/step\n",
      "1/1 [==============================] - 0s 18ms/step\n"
     ]
    }
   ],
   "source": [
    "ans = model_gender.predict(newmodel.predict(x_test[11].reshape(1,64,64,3)))"
   ]
  },
  {
   "cell_type": "code",
   "execution_count": 84,
   "id": "7653f3a3",
   "metadata": {},
   "outputs": [
    {
     "data": {
      "text/plain": [
       "1"
      ]
     },
     "execution_count": 84,
     "metadata": {},
     "output_type": "execute_result"
    }
   ],
   "source": [
    "ans = np.argmax(ans)\n",
    "ans"
   ]
  },
  {
   "cell_type": "code",
   "execution_count": 85,
   "id": "0305c74a",
   "metadata": {},
   "outputs": [],
   "source": [
    "from tensorflow.keras.preprocessing.image import img_to_array\n",
    "from tensorflow.keras.models import load_model\n",
    "import numpy as np\n",
    "import cv2\n",
    "import os\n",
    "import cvlib as cv      "
   ]
  },
  {
   "cell_type": "code",
   "execution_count": 88,
   "id": "6b6f35f1",
   "metadata": {},
   "outputs": [],
   "source": [
    "m1 = load_model(\"high_resol1.model\")\n",
    "m2 = load_model(\"high_resol2.model\")"
   ]
  },
  {
   "cell_type": "code",
   "execution_count": 90,
   "id": "f80fa9d4",
   "metadata": {},
   "outputs": [
    {
     "name": "stdout",
     "output_type": "stream",
     "text": [
      "1/1 [==============================] - 0s 239ms/step\n",
      "WARNING:tensorflow:5 out of the last 631 calls to <function Model.make_predict_function.<locals>.predict_function at 0x000001D82276C160> triggered tf.function retracing. Tracing is expensive and the excessive number of tracings could be due to (1) creating @tf.function repeatedly in a loop, (2) passing tensors with different shapes, (3) passing Python objects instead of tensors. For (1), please define your @tf.function outside of the loop. For (2), @tf.function has reduce_retracing=True option that can avoid unnecessary retracing. For (3), please refer to https://www.tensorflow.org/guide/function#controlling_retracing and https://www.tensorflow.org/api_docs/python/tf/function for  more details.\n",
      "1/1 [==============================] - 0s 244ms/step\n"
     ]
    }
   ],
   "source": [
    "SIZE=64\n",
    "HSIZE=256\n",
    "# p1 = m1.predict(x_test[11].reshape(1,64,64,3))\n",
    "predicted1 = np.clip(m1.predict(x_test[11].reshape(1,SIZE, SIZE,3)),0.0,1.0).reshape(HSIZE, HSIZE,3)\n",
    "predicted2 = np.clip(m2.predict(predicted1.reshape(1,HSIZE, HSIZE,3)),0.0,1.0).reshape(HSIZE, HSIZE,3)"
   ]
  },
  {
   "cell_type": "code",
   "execution_count": 91,
   "id": "2470b5e5",
   "metadata": {},
   "outputs": [
    {
     "data": {
      "text/plain": [
       "<matplotlib.image.AxesImage at 0x1d822121730>"
      ]
     },
     "execution_count": 91,
     "metadata": {},
     "output_type": "execute_result"
    },
    {
     "data": {
      "image/png": "[encoded data removed]",
      "text/plain": [
       "<Figure size 432x288 with 1 Axes>"
      ]
     },
     "metadata": {
      "needs_background": "light"
     },
     "output_type": "display_data"
    }
   ],
   "source": [
    "plt.imshow(predicted2)"
   ]
  },
  {
   "cell_type": "code",
   "execution_count": null,
   "id": "6fb0e70a",
   "metadata": {},
   "outputs": [],
   "source": []
  }
 ],
 "metadata": {
  "kernelspec": {
   "display_name": "Python 3 (ipykernel)",
   "language": "python",
   "name": "python3"
  },
  "language_info": {
   "codemirror_mode": {
    "name": "ipython",
    "version": 3
   },
   "file_extension": ".py",
   "mimetype": "text/x-python",
   "name": "python",
   "nbconvert_exporter": "python",
   "pygments_lexer": "ipython3",
   "version": "3.9.7"
  }
 },
 "nbformat": 4,
 "nbformat_minor": 5
}
