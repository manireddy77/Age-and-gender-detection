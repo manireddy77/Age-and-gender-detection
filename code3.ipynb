{
 "cells": [
  {
   "cell_type": "code",
   "execution_count": 1,
   "id": "c2448ffb",
   "metadata": {},
   "outputs": [],
   "source": [
    "\n",
    "import matplotlib.pyplot as plt\n",
    "import numpy as np\n",
    "import random\n",
    "import cv2\n",
    "import os\n",
    "import glob\n",
    "import pandas as pd\n",
    "import numpy as np\n",
    "import seaborn as sns\n",
    "import os\n",
    "from PIL import Image, ImageOps\n",
    "import pandas as pd\n",
    "from sklearn.model_selection import train_test_split\n",
    "from sklearn.model_selection import train_test_split\n",
    "from keras.models import Sequential\n",
    "from keras.layers import Conv2D, MaxPooling2D, Activation, Dropout, Flatten, Dense\n",
    "from keras import optimizers\n",
    "from keras.preprocessing.image import ImageDataGenerator\n",
    "from sklearn.metrics import confusion_matrix\n",
    "import itertools"
   ]
  },
  {
   "cell_type": "code",
   "execution_count": 2,
   "id": "b651b6c4",
   "metadata": {},
   "outputs": [],
   "source": [
    "\n",
    "import tensorflow as tf\n",
    "\n",
    "from tensorflow.keras.preprocessing.image import ImageDataGenerator\n",
    "from tensorflow.keras.utils import to_categorical # convert to one-hot-encoding\n",
    "from tensorflow.keras.models import Sequential\n",
    "from tensorflow.keras.layers import Dense, Dropout, Flatten, Conv2D, MaxPool2D, BatchNormalization, InputLayer\n",
    "from tensorflow.keras.optimizers import RMSprop,Adam\n",
    "from tensorflow.keras.preprocessing.image import ImageDataGenerator\n",
    "from tensorflow.keras.callbacks import ReduceLROnPlateau, EarlyStopping\n",
    "from tensorflow.keras.losses import BinaryCrossentropy, SparseCategoricalCrossentropy\n",
    "from tensorflow.keras.preprocessing.image import load_img\n",
    "from tensorflow.keras.preprocessing.image import ImageDataGenerator\n",
    "from tensorflow.keras.optimizers import Adam\n",
    "from tensorflow.keras.preprocessing.image import img_to_array\n",
    "from tensorflow.keras.utils import to_categorical, plot_model\n",
    "from tensorflow.keras.models import Sequential\n",
    "from tensorflow.keras.layers import BatchNormalization, Conv2D, MaxPooling2D, Activation, Flatten, Dropout, Dense\n",
    "from tensorflow.keras import backend as K"
   ]
  },
  {
   "cell_type": "code",
   "execution_count": 3,
   "id": "f9ee8a9b",
   "metadata": {
    "scrolled": true
   },
   "outputs": [
    {
     "name": "stdout",
     "output_type": "stream",
     "text": [
      "Model: \"sequential\"\n",
      "_________________________________________________________________\n",
      " Layer (type)                Output Shape              Param #   \n",
      "=================================================================\n",
      " block1_conv1 (Conv2D)       (None, 128, 128, 64)      1792      \n",
      "                                                                 \n",
      " block1_conv2 (Conv2D)       (None, 128, 128, 64)      36928     \n",
      "                                                                 \n",
      " block1_pool (MaxPooling2D)  (None, 64, 64, 64)        0         \n",
      "                                                                 \n",
      " block2_conv1 (Conv2D)       (None, 64, 64, 128)       73856     \n",
      "                                                                 \n",
      " block2_conv2 (Conv2D)       (None, 64, 64, 128)       147584    \n",
      "                                                                 \n",
      " block2_pool (MaxPooling2D)  (None, 32, 32, 128)       0         \n",
      "                                                                 \n",
      " block3_conv1 (Conv2D)       (None, 32, 32, 256)       295168    \n",
      "                                                                 \n",
      " block3_conv2 (Conv2D)       (None, 32, 32, 256)       590080    \n",
      "                                                                 \n",
      " block3_conv3 (Conv2D)       (None, 32, 32, 256)       590080    \n",
      "                                                                 \n",
      " block3_pool (MaxPooling2D)  (None, 16, 16, 256)       0         \n",
      "                                                                 \n",
      " block4_conv1 (Conv2D)       (None, 16, 16, 512)       1180160   \n",
      "                                                                 \n",
      " block4_conv2 (Conv2D)       (None, 16, 16, 512)       2359808   \n",
      "                                                                 \n",
      " block4_conv3 (Conv2D)       (None, 16, 16, 512)       2359808   \n",
      "                                                                 \n",
      " block4_pool (MaxPooling2D)  (None, 8, 8, 512)         0         \n",
      "                                                                 \n",
      "=================================================================\n",
      "Total params: 7,635,264\n",
      "Trainable params: 7,635,264\n",
      "Non-trainable params: 0\n",
      "_________________________________________________________________\n"
     ]
    }
   ],
   "source": [
    "from keras.layers import Conv2D, UpSampling2D, Input\n",
    "from keras.models import Sequential, Model\n",
    "from keras.preprocessing.image import ImageDataGenerator\n",
    "from skimage.color import rgb2lab, lab2rgb, gray2rgb\n",
    "from skimage.transform import resize\n",
    "from skimage.io import imsave\n",
    "import numpy as np\n",
    "import tensorflow as tf\n",
    "import keras\n",
    "import os\n",
    "\n",
    "from keras.applications.vgg16 import VGG16\n",
    "vggmodel = VGG16(include_top=False,input_shape=(128,128,3),weights=\"imagenet\",classes=2)\n",
    "newmodel = Sequential() \n",
    "\n",
    "for i, layer in enumerate(vggmodel.layers):\n",
    "    if i<15:         \n",
    "      newmodel.add(layer)\n",
    "newmodel.summary()\n",
    "for layer in newmodel.layers:\n",
    "  layer.trainable=False  "
   ]
  },
  {
   "cell_type": "code",
   "execution_count": 4,
   "id": "fc9ffc87",
   "metadata": {},
   "outputs": [
    {
     "name": "stdout",
     "output_type": "stream",
     "text": [
      "Model: \"sequential\"\n",
      "_________________________________________________________________\n",
      " Layer (type)                Output Shape              Param #   \n",
      "=================================================================\n",
      " block1_conv1 (Conv2D)       (None, 128, 128, 64)      1792      \n",
      "                                                                 \n",
      " block1_conv2 (Conv2D)       (None, 128, 128, 64)      36928     \n",
      "                                                                 \n",
      " block1_pool (MaxPooling2D)  (None, 64, 64, 64)        0         \n",
      "                                                                 \n",
      " block2_conv1 (Conv2D)       (None, 64, 64, 128)       73856     \n",
      "                                                                 \n",
      " block2_conv2 (Conv2D)       (None, 64, 64, 128)       147584    \n",
      "                                                                 \n",
      " block2_pool (MaxPooling2D)  (None, 32, 32, 128)       0         \n",
      "                                                                 \n",
      " block3_conv1 (Conv2D)       (None, 32, 32, 256)       295168    \n",
      "                                                                 \n",
      " block3_conv2 (Conv2D)       (None, 32, 32, 256)       590080    \n",
      "                                                                 \n",
      " block3_conv3 (Conv2D)       (None, 32, 32, 256)       590080    \n",
      "                                                                 \n",
      " block3_pool (MaxPooling2D)  (None, 16, 16, 256)       0         \n",
      "                                                                 \n",
      " block4_conv1 (Conv2D)       (None, 16, 16, 512)       1180160   \n",
      "                                                                 \n",
      " block4_conv2 (Conv2D)       (None, 16, 16, 512)       2359808   \n",
      "                                                                 \n",
      " block4_conv3 (Conv2D)       (None, 16, 16, 512)       2359808   \n",
      "                                                                 \n",
      " block4_pool (MaxPooling2D)  (None, 8, 8, 512)         0         \n",
      "                                                                 \n",
      "=================================================================\n",
      "Total params: 7,635,264\n",
      "Trainable params: 0\n",
      "Non-trainable params: 7,635,264\n",
      "_________________________________________________________________\n"
     ]
    }
   ],
   "source": [
    "newmodel.summary()"
   ]
  },
  {
   "cell_type": "code",
   "execution_count": 5,
   "id": "31c8a615",
   "metadata": {},
   "outputs": [
    {
     "name": "stdout",
     "output_type": "stream",
     "text": [
      "Total samples: 23708\n"
     ]
    }
   ],
   "source": [
    "path = \"C:/Users/user/Desktop/Age and Gender/archive/UTKFace/\"\n",
    "path2 =\"C:/Users/user/Desktop/Age and Gender/agegender_data/UTKFace1/\"\n",
    "files = os.listdir(path)\n",
    "size = len(files)\n",
    "print(\"Total samples:\",size)\n"
   ]
  },
  {
   "cell_type": "code",
   "execution_count": 6,
   "id": "8aca7e3d",
   "metadata": {},
   "outputs": [],
   "source": [
    "images =[]\n",
    "age =[]\n",
    "gender =[]\n",
    "for file in files:\n",
    "    im = load_img(path+file)\n",
    "    im = np.array(im)\n",
    "    im= cv2.resize(im,(128,128))\n",
    "    im = np.array(im, dtype=\"float\") / 255.0\n",
    "    split_var = file.split('_')\n",
    "    images.append(im)\n",
    "    age.append(int(split_var[0]))\n",
    "    gender.append(int(split_var[1]))"
   ]
  },
  {
   "cell_type": "code",
   "execution_count": 7,
   "id": "6b1a252c",
   "metadata": {},
   "outputs": [],
   "source": [
    "temp = list(zip(images,age,gender))\n",
    "random.shuffle(temp)\n",
    "shuffled_images,shuffled_age,shuffled_gender =zip(*temp)\n",
    "images.clear()\n",
    "age.clear()\n",
    "gender.clear()"
   ]
  },
  {
   "cell_type": "code",
   "execution_count": 8,
   "id": "f9aafca5",
   "metadata": {},
   "outputs": [],
   "source": [
    "set_1_images = np.array(shuffled_images[:20000])\n",
    "set_1_ages = np.array(shuffled_age[:20000])\n",
    "set_1_gender = np.array(shuffled_gender[:20000])"
   ]
  },
  {
   "cell_type": "code",
   "execution_count": 9,
   "id": "c0319b64",
   "metadata": {},
   "outputs": [],
   "source": [
    "age = pd.cut(set_1_ages,bins = [0,10,20,30,40,50,60,70,80,90,100,120],labels = [\"0\",\"1\",\"2\",\"3\",\"4\",\"5\",\"6\",\"7\",\"8\",\"9\",\"10\"])\n",
    "age = np.array(age)\n",
    "agef =  to_categorical(age, dtype = \"int\",num_classes=11)\n"
   ]
  },
  {
   "cell_type": "code",
   "execution_count": 10,
   "id": "2dfafe53",
   "metadata": {},
   "outputs": [],
   "source": [
    "del shuffled_images\n",
    "del shuffled_age\n",
    "del shuffled_gender"
   ]
  },
  {
   "cell_type": "code",
   "execution_count": 11,
   "id": "35d26d1e",
   "metadata": {},
   "outputs": [],
   "source": [
    "datagen = ImageDataGenerator(\n",
    "        featurewise_center=False,  # set input mean to 0 over the dataset\n",
    "        samplewise_center=False,  # set each sample mean to 0\n",
    "        featurewise_std_normalization=False,  # divide inputs by std of the dataset\n",
    "        samplewise_std_normalization=False,  # divide each input by its std\n",
    "        zca_whitening=False,  # dimesion reduction\n",
    "        rotation_range=30,  # randomly rotate images in the range 5 degrees\n",
    "        zoom_range = 0.1, # Randomly zoom image 10%\n",
    "        width_shift_range=0.1,  # randomly shift images horizontally 10%\n",
    "        height_shift_range=0.1,  # randomly shift images vertically 10%\n",
    "        horizontal_flip=True,  # randomly flip images\n",
    "        vertical_flip=True)  # randomly flip images\n",
    "\n"
   ]
  },
  {
   "cell_type": "code",
   "execution_count": 12,
   "id": "30e35de2",
   "metadata": {},
   "outputs": [],
   "source": [
    "del temp"
   ]
  },
  {
   "cell_type": "code",
   "execution_count": 13,
   "id": "d4e10fcb",
   "metadata": {},
   "outputs": [],
   "source": [
    "datagen.fit(set_1_images)\n",
    "it = datagen.flow(set_1_images,agef,batch_size=20000,shuffle=False)"
   ]
  },
  {
   "cell_type": "code",
   "execution_count": 14,
   "id": "61355d8a",
   "metadata": {},
   "outputs": [],
   "source": [
    "set_1_images_agu,agef_agu = next(it)"
   ]
  },
  {
   "cell_type": "code",
   "execution_count": null,
   "id": "e58a2d77",
   "metadata": {},
   "outputs": [],
   "source": []
  },
  {
   "cell_type": "code",
   "execution_count": 15,
   "id": "17459106",
   "metadata": {},
   "outputs": [],
   "source": [
    "# del temp\n",
    "temp = list(zip(set_1_images_agu,agef_agu))\n",
    "random.shuffle(temp)\n",
    "set_1_images_agu,agef_agu, =zip(*temp)"
   ]
  },
  {
   "cell_type": "code",
   "execution_count": 16,
   "id": "1fbe12ba",
   "metadata": {},
   "outputs": [],
   "source": [
    "set_train_images = np.concatenate([set_1_images_agu[10000:],set_1_images[:10000] ])\n",
    "set_train_gender = np.concatenate([agef_agu[10000:],agef[:10000] ])"
   ]
  },
  {
   "cell_type": "code",
   "execution_count": 17,
   "id": "a9c2bf1a",
   "metadata": {},
   "outputs": [],
   "source": [
    "del temp\n",
    "temp = list(zip(set_train_images,set_train_gender))\n",
    "random.shuffle(temp)\n",
    "set_train_images,set_train_gender=zip(*temp)"
   ]
  },
  {
   "cell_type": "code",
   "execution_count": 18,
   "id": "d034e266",
   "metadata": {},
   "outputs": [],
   "source": [
    "set_train_gender = np.array(set_train_gender)\n",
    "set_train_images = np.array(set_train_images)"
   ]
  },
  {
   "cell_type": "code",
   "execution_count": 19,
   "id": "cf3f6e69",
   "metadata": {},
   "outputs": [],
   "source": [
    "\n",
    "def my_train_test_split(X, Y, train_ratio=0.8):\n",
    "    \n",
    "    n = X.shape[0]\n",
    "    split = int(n * train_ratio)\n",
    "    index = np.arange(n)\n",
    "    np.random.shuffle(index)\n",
    "    return X[index[:split]], Y[index[:split]], X[index[split:]], Y[index[split:]]\n",
    "\n",
    "x_train ,y_train,x_test,y_test = my_train_test_split(set_train_images,set_train_gender)"
   ]
  },
  {
   "cell_type": "code",
   "execution_count": 19,
   "id": "03f2dac9",
   "metadata": {
    "scrolled": true
   },
   "outputs": [
    {
     "name": "stdout",
     "output_type": "stream",
     "text": [
      " 92/500 [====>.........................] - ETA: 4:40"
     ]
    },
    {
     "ename": "KeyboardInterrupt",
     "evalue": "",
     "output_type": "error",
     "traceback": [
      "\u001b[1;31m---------------------------------------------------------------------------\u001b[0m",
      "\u001b[1;31mKeyboardInterrupt\u001b[0m                         Traceback (most recent call last)",
      "\u001b[1;32m~\\AppData\\Local\\Temp/ipykernel_8428/3073806818.py\u001b[0m in \u001b[0;36m<module>\u001b[1;34m\u001b[0m\n\u001b[1;32m----> 1\u001b[1;33m \u001b[0mx_train_predicted\u001b[0m \u001b[1;33m=\u001b[0m \u001b[0mnewmodel\u001b[0m\u001b[1;33m.\u001b[0m\u001b[0mpredict\u001b[0m\u001b[1;33m(\u001b[0m\u001b[0mx_train\u001b[0m\u001b[1;33m)\u001b[0m\u001b[1;33m\u001b[0m\u001b[1;33m\u001b[0m\u001b[0m\n\u001b[0m",
      "\u001b[1;32m~\\anaconda3\\lib\\site-packages\\keras\\utils\\traceback_utils.py\u001b[0m in \u001b[0;36merror_handler\u001b[1;34m(*args, **kwargs)\u001b[0m\n\u001b[0;32m     63\u001b[0m         \u001b[0mfiltered_tb\u001b[0m \u001b[1;33m=\u001b[0m \u001b[1;32mNone\u001b[0m\u001b[1;33m\u001b[0m\u001b[1;33m\u001b[0m\u001b[0m\n\u001b[0;32m     64\u001b[0m         \u001b[1;32mtry\u001b[0m\u001b[1;33m:\u001b[0m\u001b[1;33m\u001b[0m\u001b[1;33m\u001b[0m\u001b[0m\n\u001b[1;32m---> 65\u001b[1;33m             \u001b[1;32mreturn\u001b[0m \u001b[0mfn\u001b[0m\u001b[1;33m(\u001b[0m\u001b[1;33m*\u001b[0m\u001b[0margs\u001b[0m\u001b[1;33m,\u001b[0m \u001b[1;33m**\u001b[0m\u001b[0mkwargs\u001b[0m\u001b[1;33m)\u001b[0m\u001b[1;33m\u001b[0m\u001b[1;33m\u001b[0m\u001b[0m\n\u001b[0m\u001b[0;32m     66\u001b[0m         \u001b[1;32mexcept\u001b[0m \u001b[0mException\u001b[0m \u001b[1;32mas\u001b[0m \u001b[0me\u001b[0m\u001b[1;33m:\u001b[0m\u001b[1;33m\u001b[0m\u001b[1;33m\u001b[0m\u001b[0m\n\u001b[0;32m     67\u001b[0m             \u001b[0mfiltered_tb\u001b[0m \u001b[1;33m=\u001b[0m \u001b[0m_process_traceback_frames\u001b[0m\u001b[1;33m(\u001b[0m\u001b[0me\u001b[0m\u001b[1;33m.\u001b[0m\u001b[0m__traceback__\u001b[0m\u001b[1;33m)\u001b[0m\u001b[1;33m\u001b[0m\u001b[1;33m\u001b[0m\u001b[0m\n",
      "\u001b[1;32m~\\anaconda3\\lib\\site-packages\\keras\\engine\\training.py\u001b[0m in \u001b[0;36mpredict\u001b[1;34m(self, x, batch_size, verbose, steps, callbacks, max_queue_size, workers, use_multiprocessing)\u001b[0m\n\u001b[0;32m   2251\u001b[0m                     \u001b[1;32mfor\u001b[0m \u001b[0mstep\u001b[0m \u001b[1;32min\u001b[0m \u001b[0mdata_handler\u001b[0m\u001b[1;33m.\u001b[0m\u001b[0msteps\u001b[0m\u001b[1;33m(\u001b[0m\u001b[1;33m)\u001b[0m\u001b[1;33m:\u001b[0m\u001b[1;33m\u001b[0m\u001b[1;33m\u001b[0m\u001b[0m\n\u001b[0;32m   2252\u001b[0m                         \u001b[0mcallbacks\u001b[0m\u001b[1;33m.\u001b[0m\u001b[0mon_predict_batch_begin\u001b[0m\u001b[1;33m(\u001b[0m\u001b[0mstep\u001b[0m\u001b[1;33m)\u001b[0m\u001b[1;33m\u001b[0m\u001b[1;33m\u001b[0m\u001b[0m\n\u001b[1;32m-> 2253\u001b[1;33m                         \u001b[0mtmp_batch_outputs\u001b[0m \u001b[1;33m=\u001b[0m \u001b[0mself\u001b[0m\u001b[1;33m.\u001b[0m\u001b[0mpredict_function\u001b[0m\u001b[1;33m(\u001b[0m\u001b[0miterator\u001b[0m\u001b[1;33m)\u001b[0m\u001b[1;33m\u001b[0m\u001b[1;33m\u001b[0m\u001b[0m\n\u001b[0m\u001b[0;32m   2254\u001b[0m                         \u001b[1;32mif\u001b[0m \u001b[0mdata_handler\u001b[0m\u001b[1;33m.\u001b[0m\u001b[0mshould_sync\u001b[0m\u001b[1;33m:\u001b[0m\u001b[1;33m\u001b[0m\u001b[1;33m\u001b[0m\u001b[0m\n\u001b[0;32m   2255\u001b[0m                             \u001b[0mcontext\u001b[0m\u001b[1;33m.\u001b[0m\u001b[0masync_wait\u001b[0m\u001b[1;33m(\u001b[0m\u001b[1;33m)\u001b[0m\u001b[1;33m\u001b[0m\u001b[1;33m\u001b[0m\u001b[0m\n",
      "\u001b[1;32m~\\anaconda3\\lib\\site-packages\\tensorflow\\python\\util\\traceback_utils.py\u001b[0m in \u001b[0;36merror_handler\u001b[1;34m(*args, **kwargs)\u001b[0m\n\u001b[0;32m    148\u001b[0m     \u001b[0mfiltered_tb\u001b[0m \u001b[1;33m=\u001b[0m \u001b[1;32mNone\u001b[0m\u001b[1;33m\u001b[0m\u001b[1;33m\u001b[0m\u001b[0m\n\u001b[0;32m    149\u001b[0m     \u001b[1;32mtry\u001b[0m\u001b[1;33m:\u001b[0m\u001b[1;33m\u001b[0m\u001b[1;33m\u001b[0m\u001b[0m\n\u001b[1;32m--> 150\u001b[1;33m       \u001b[1;32mreturn\u001b[0m \u001b[0mfn\u001b[0m\u001b[1;33m(\u001b[0m\u001b[1;33m*\u001b[0m\u001b[0margs\u001b[0m\u001b[1;33m,\u001b[0m \u001b[1;33m**\u001b[0m\u001b[0mkwargs\u001b[0m\u001b[1;33m)\u001b[0m\u001b[1;33m\u001b[0m\u001b[1;33m\u001b[0m\u001b[0m\n\u001b[0m\u001b[0;32m    151\u001b[0m     \u001b[1;32mexcept\u001b[0m \u001b[0mException\u001b[0m \u001b[1;32mas\u001b[0m \u001b[0me\u001b[0m\u001b[1;33m:\u001b[0m\u001b[1;33m\u001b[0m\u001b[1;33m\u001b[0m\u001b[0m\n\u001b[0;32m    152\u001b[0m       \u001b[0mfiltered_tb\u001b[0m \u001b[1;33m=\u001b[0m \u001b[0m_process_traceback_frames\u001b[0m\u001b[1;33m(\u001b[0m\u001b[0me\u001b[0m\u001b[1;33m.\u001b[0m\u001b[0m__traceback__\u001b[0m\u001b[1;33m)\u001b[0m\u001b[1;33m\u001b[0m\u001b[1;33m\u001b[0m\u001b[0m\n",
      "\u001b[1;32m~\\anaconda3\\lib\\site-packages\\tensorflow\\python\\eager\\def_function.py\u001b[0m in \u001b[0;36m__call__\u001b[1;34m(self, *args, **kwds)\u001b[0m\n\u001b[0;32m    913\u001b[0m \u001b[1;33m\u001b[0m\u001b[0m\n\u001b[0;32m    914\u001b[0m       \u001b[1;32mwith\u001b[0m \u001b[0mOptionalXlaContext\u001b[0m\u001b[1;33m(\u001b[0m\u001b[0mself\u001b[0m\u001b[1;33m.\u001b[0m\u001b[0m_jit_compile\u001b[0m\u001b[1;33m)\u001b[0m\u001b[1;33m:\u001b[0m\u001b[1;33m\u001b[0m\u001b[1;33m\u001b[0m\u001b[0m\n\u001b[1;32m--> 915\u001b[1;33m         \u001b[0mresult\u001b[0m \u001b[1;33m=\u001b[0m \u001b[0mself\u001b[0m\u001b[1;33m.\u001b[0m\u001b[0m_call\u001b[0m\u001b[1;33m(\u001b[0m\u001b[1;33m*\u001b[0m\u001b[0margs\u001b[0m\u001b[1;33m,\u001b[0m \u001b[1;33m**\u001b[0m\u001b[0mkwds\u001b[0m\u001b[1;33m)\u001b[0m\u001b[1;33m\u001b[0m\u001b[1;33m\u001b[0m\u001b[0m\n\u001b[0m\u001b[0;32m    916\u001b[0m \u001b[1;33m\u001b[0m\u001b[0m\n\u001b[0;32m    917\u001b[0m       \u001b[0mnew_tracing_count\u001b[0m \u001b[1;33m=\u001b[0m \u001b[0mself\u001b[0m\u001b[1;33m.\u001b[0m\u001b[0mexperimental_get_tracing_count\u001b[0m\u001b[1;33m(\u001b[0m\u001b[1;33m)\u001b[0m\u001b[1;33m\u001b[0m\u001b[1;33m\u001b[0m\u001b[0m\n",
      "\u001b[1;32m~\\anaconda3\\lib\\site-packages\\tensorflow\\python\\eager\\def_function.py\u001b[0m in \u001b[0;36m_call\u001b[1;34m(self, *args, **kwds)\u001b[0m\n\u001b[0;32m    952\u001b[0m       \u001b[1;31m# In this case we have not created variables on the first call. So we can\u001b[0m\u001b[1;33m\u001b[0m\u001b[1;33m\u001b[0m\u001b[0m\n\u001b[0;32m    953\u001b[0m       \u001b[1;31m# run the first trace but we should fail if variables are created.\u001b[0m\u001b[1;33m\u001b[0m\u001b[1;33m\u001b[0m\u001b[0m\n\u001b[1;32m--> 954\u001b[1;33m       \u001b[0mresults\u001b[0m \u001b[1;33m=\u001b[0m \u001b[0mself\u001b[0m\u001b[1;33m.\u001b[0m\u001b[0m_stateful_fn\u001b[0m\u001b[1;33m(\u001b[0m\u001b[1;33m*\u001b[0m\u001b[0margs\u001b[0m\u001b[1;33m,\u001b[0m \u001b[1;33m**\u001b[0m\u001b[0mkwds\u001b[0m\u001b[1;33m)\u001b[0m\u001b[1;33m\u001b[0m\u001b[1;33m\u001b[0m\u001b[0m\n\u001b[0m\u001b[0;32m    955\u001b[0m       \u001b[1;32mif\u001b[0m \u001b[0mself\u001b[0m\u001b[1;33m.\u001b[0m\u001b[0m_created_variables\u001b[0m \u001b[1;32mand\u001b[0m \u001b[1;32mnot\u001b[0m \u001b[0mALLOW_DYNAMIC_VARIABLE_CREATION\u001b[0m\u001b[1;33m:\u001b[0m\u001b[1;33m\u001b[0m\u001b[1;33m\u001b[0m\u001b[0m\n\u001b[0;32m    956\u001b[0m         raise ValueError(\"Creating variables on a non-first call to a function\"\n",
      "\u001b[1;32m~\\anaconda3\\lib\\site-packages\\tensorflow\\python\\eager\\function.py\u001b[0m in \u001b[0;36m__call__\u001b[1;34m(self, *args, **kwargs)\u001b[0m\n\u001b[0;32m   2494\u001b[0m       (graph_function,\n\u001b[0;32m   2495\u001b[0m        filtered_flat_args) = self._maybe_define_function(args, kwargs)\n\u001b[1;32m-> 2496\u001b[1;33m     return graph_function._call_flat(\n\u001b[0m\u001b[0;32m   2497\u001b[0m         filtered_flat_args, captured_inputs=graph_function.captured_inputs)  # pylint: disable=protected-access\n\u001b[0;32m   2498\u001b[0m \u001b[1;33m\u001b[0m\u001b[0m\n",
      "\u001b[1;32m~\\anaconda3\\lib\\site-packages\\tensorflow\\python\\eager\\function.py\u001b[0m in \u001b[0;36m_call_flat\u001b[1;34m(self, args, captured_inputs, cancellation_manager)\u001b[0m\n\u001b[0;32m   1860\u001b[0m         and executing_eagerly):\n\u001b[0;32m   1861\u001b[0m       \u001b[1;31m# No tape is watching; skip to running the function.\u001b[0m\u001b[1;33m\u001b[0m\u001b[1;33m\u001b[0m\u001b[0m\n\u001b[1;32m-> 1862\u001b[1;33m       return self._build_call_outputs(self._inference_function.call(\n\u001b[0m\u001b[0;32m   1863\u001b[0m           ctx, args, cancellation_manager=cancellation_manager))\n\u001b[0;32m   1864\u001b[0m     forward_backward = self._select_forward_and_backward_functions(\n",
      "\u001b[1;32m~\\anaconda3\\lib\\site-packages\\tensorflow\\python\\eager\\function.py\u001b[0m in \u001b[0;36mcall\u001b[1;34m(self, ctx, args, cancellation_manager)\u001b[0m\n\u001b[0;32m    497\u001b[0m       \u001b[1;32mwith\u001b[0m \u001b[0m_InterpolateFunctionError\u001b[0m\u001b[1;33m(\u001b[0m\u001b[0mself\u001b[0m\u001b[1;33m)\u001b[0m\u001b[1;33m:\u001b[0m\u001b[1;33m\u001b[0m\u001b[1;33m\u001b[0m\u001b[0m\n\u001b[0;32m    498\u001b[0m         \u001b[1;32mif\u001b[0m \u001b[0mcancellation_manager\u001b[0m \u001b[1;32mis\u001b[0m \u001b[1;32mNone\u001b[0m\u001b[1;33m:\u001b[0m\u001b[1;33m\u001b[0m\u001b[1;33m\u001b[0m\u001b[0m\n\u001b[1;32m--> 499\u001b[1;33m           outputs = execute.execute(\n\u001b[0m\u001b[0;32m    500\u001b[0m               \u001b[0mstr\u001b[0m\u001b[1;33m(\u001b[0m\u001b[0mself\u001b[0m\u001b[1;33m.\u001b[0m\u001b[0msignature\u001b[0m\u001b[1;33m.\u001b[0m\u001b[0mname\u001b[0m\u001b[1;33m)\u001b[0m\u001b[1;33m,\u001b[0m\u001b[1;33m\u001b[0m\u001b[1;33m\u001b[0m\u001b[0m\n\u001b[0;32m    501\u001b[0m               \u001b[0mnum_outputs\u001b[0m\u001b[1;33m=\u001b[0m\u001b[0mself\u001b[0m\u001b[1;33m.\u001b[0m\u001b[0m_num_outputs\u001b[0m\u001b[1;33m,\u001b[0m\u001b[1;33m\u001b[0m\u001b[1;33m\u001b[0m\u001b[0m\n",
      "\u001b[1;32m~\\anaconda3\\lib\\site-packages\\tensorflow\\python\\eager\\execute.py\u001b[0m in \u001b[0;36mquick_execute\u001b[1;34m(op_name, num_outputs, inputs, attrs, ctx, name)\u001b[0m\n\u001b[0;32m     52\u001b[0m   \u001b[1;32mtry\u001b[0m\u001b[1;33m:\u001b[0m\u001b[1;33m\u001b[0m\u001b[1;33m\u001b[0m\u001b[0m\n\u001b[0;32m     53\u001b[0m     \u001b[0mctx\u001b[0m\u001b[1;33m.\u001b[0m\u001b[0mensure_initialized\u001b[0m\u001b[1;33m(\u001b[0m\u001b[1;33m)\u001b[0m\u001b[1;33m\u001b[0m\u001b[1;33m\u001b[0m\u001b[0m\n\u001b[1;32m---> 54\u001b[1;33m     tensors = pywrap_tfe.TFE_Py_Execute(ctx._handle, device_name, op_name,\n\u001b[0m\u001b[0;32m     55\u001b[0m                                         inputs, attrs, num_outputs)\n\u001b[0;32m     56\u001b[0m   \u001b[1;32mexcept\u001b[0m \u001b[0mcore\u001b[0m\u001b[1;33m.\u001b[0m\u001b[0m_NotOkStatusException\u001b[0m \u001b[1;32mas\u001b[0m \u001b[0me\u001b[0m\u001b[1;33m:\u001b[0m\u001b[1;33m\u001b[0m\u001b[1;33m\u001b[0m\u001b[0m\n",
      "\u001b[1;31mKeyboardInterrupt\u001b[0m: "
     ]
    }
   ],
   "source": [
    "x_train_predicted = newmodel.predict(x_train)"
   ]
  },
  {
   "cell_type": "code",
   "execution_count": 36,
   "id": "c474394b",
   "metadata": {},
   "outputs": [
    {
     "name": "stdout",
     "output_type": "stream",
     "text": [
      "125/125 [==============================] - 77s 614ms/step\n"
     ]
    }
   ],
   "source": [
    "x_test_predicted = newmodel.predict(x_test)"
   ]
  },
  {
   "cell_type": "code",
   "execution_count": 20,
   "id": "b46e583c",
   "metadata": {},
   "outputs": [
    {
     "name": "stdout",
     "output_type": "stream",
     "text": [
      "Model: \"sequential_1\"\n",
      "_________________________________________________________________\n",
      " Layer (type)                Output Shape              Param #   \n",
      "=================================================================\n",
      " conv2d (Conv2D)             (None, 128, 128, 64)      1792      \n",
      "                                                                 \n",
      " max_pooling2d (MaxPooling2D  (None, 64, 64, 64)       0         \n",
      " )                                                               \n",
      "                                                                 \n",
      " batch_normalization (BatchN  (None, 64, 64, 64)       256       \n",
      " ormalization)                                                   \n",
      "                                                                 \n",
      " conv2d_1 (Conv2D)           (None, 64, 64, 64)        36928     \n",
      "                                                                 \n",
      " max_pooling2d_1 (MaxPooling  (None, 32, 32, 64)       0         \n",
      " 2D)                                                             \n",
      "                                                                 \n",
      " batch_normalization_1 (Batc  (None, 32, 32, 64)       256       \n",
      " hNormalization)                                                 \n",
      "                                                                 \n",
      " conv2d_2 (Conv2D)           (None, 32, 32, 32)        18464     \n",
      "                                                                 \n",
      " max_pooling2d_2 (MaxPooling  (None, 16, 16, 32)       0         \n",
      " 2D)                                                             \n",
      "                                                                 \n",
      " flatten (Flatten)           (None, 8192)              0         \n",
      "                                                                 \n",
      " dense (Dense)               (None, 128)               1048704   \n",
      "                                                                 \n",
      " dropout (Dropout)           (None, 128)               0         \n",
      "                                                                 \n",
      " dense_1 (Dense)             (None, 11)                1419      \n",
      "                                                                 \n",
      "=================================================================\n",
      "Total params: 1,107,819\n",
      "Trainable params: 1,107,563\n",
      "Non-trainable params: 256\n",
      "_________________________________________________________________\n"
     ]
    }
   ],
   "source": [
    "def my_model(num_classes, activation, loss):\n",
    "    model = Sequential() \n",
    "    model.add(Conv2D(64, kernel_size=(3, 3), activation='relu', padding = \"same\", input_shape=(128,128,3)))\n",
    "    model.add(tf.keras.layers.MaxPooling2D(pool_size=(2, 2), strides=None, padding=\"valid\",))\n",
    "    model.add(BatchNormalization())\n",
    "    model.add(Conv2D(64, kernel_size=(3, 3), activation='relu', padding = \"same\"))\n",
    "    model.add(tf.keras.layers.MaxPooling2D(pool_size=(2, 2), strides=None, padding=\"valid\",))\n",
    "    model.add(BatchNormalization())\n",
    "    model.add(Conv2D(32, kernel_size=(3, 3), activation='relu', padding = \"same\"))\n",
    "    model.add(tf.keras.layers.MaxPooling2D(pool_size=(2, 2), strides=None, padding=\"valid\",))\n",
    "    model.add(Flatten())\n",
    "    model.add(Dense(128, activation='relu'))\n",
    "    model.add(Dropout(0.5))\n",
    "    model.add(Dense(num_classes, activation= activation))\n",
    "    model.compile(optimizer='Adam',\n",
    "              loss= loss,\n",
    "              metrics=['accuracy'])\n",
    "    return model\n",
    "model =  my_model(11,\"softmax\",'categorical_crossentropy')\n",
    "model.summary()"
   ]
  },
  {
   "cell_type": "code",
   "execution_count": 21,
   "id": "a20ffdf9",
   "metadata": {},
   "outputs": [],
   "source": [
    "early_stopping = EarlyStopping(patience=10, min_delta=0.001,restore_best_weights=True)\n",
    "\n",
    "learning_rate_reduction = ReduceLROnPlateau(monitor='val_acc', patience=3, verbose=1, \n",
    "                                            factor=0.5, min_lr=0.00001)"
   ]
  },
  {
   "cell_type": "code",
   "execution_count": 22,
   "id": "41e7d9f6",
   "metadata": {},
   "outputs": [],
   "source": [
    "epochs = 50  # for better result increase the epochs\n",
    "batch_size = 64"
   ]
  },
  {
   "cell_type": "code",
   "execution_count": 23,
   "id": "479d3ced",
   "metadata": {},
   "outputs": [
    {
     "name": "stdout",
     "output_type": "stream",
     "text": [
      "Epoch 1/50\n",
      "250/250 [==============================] - 257s 1s/step - loss: 2.0183 - accuracy: 0.3107 - val_loss: 2.0438 - val_accuracy: 0.2998\n",
      "Epoch 2/50\n",
      "250/250 [==============================] - 244s 974ms/step - loss: 1.7937 - accuracy: 0.3613 - val_loss: 1.7421 - val_accuracy: 0.3580\n",
      "Epoch 3/50\n",
      "250/250 [==============================] - 243s 974ms/step - loss: 1.7390 - accuracy: 0.3717 - val_loss: 1.7388 - val_accuracy: 0.3775\n",
      "Epoch 4/50\n",
      "250/250 [==============================] - 245s 980ms/step - loss: 1.6605 - accuracy: 0.3836 - val_loss: 2.1976 - val_accuracy: 0.3880\n",
      "Epoch 5/50\n",
      "250/250 [==============================] - 248s 994ms/step - loss: 1.6305 - accuracy: 0.3959 - val_loss: 2.0602 - val_accuracy: 0.3747\n",
      "Epoch 6/50\n",
      "250/250 [==============================] - 248s 994ms/step - loss: 1.5794 - accuracy: 0.4044 - val_loss: 1.6463 - val_accuracy: 0.4110\n",
      "Epoch 7/50\n",
      "250/250 [==============================] - 245s 980ms/step - loss: 1.5524 - accuracy: 0.4188 - val_loss: 1.5400 - val_accuracy: 0.4345\n",
      "Epoch 8/50\n",
      "250/250 [==============================] - 245s 980ms/step - loss: 1.5332 - accuracy: 0.4211 - val_loss: 1.5805 - val_accuracy: 0.4142\n",
      "Epoch 9/50\n",
      "250/250 [==============================] - 245s 981ms/step - loss: 1.5014 - accuracy: 0.4332 - val_loss: 2.7663 - val_accuracy: 0.3927\n",
      "Epoch 10/50\n",
      "250/250 [==============================] - 245s 982ms/step - loss: 1.4738 - accuracy: 0.4393 - val_loss: 1.4994 - val_accuracy: 0.4470\n",
      "Epoch 11/50\n",
      "250/250 [==============================] - 245s 981ms/step - loss: 1.4467 - accuracy: 0.4457 - val_loss: 1.5331 - val_accuracy: 0.4485\n",
      "Epoch 12/50\n",
      "250/250 [==============================] - 245s 982ms/step - loss: 1.4281 - accuracy: 0.4482 - val_loss: 1.5043 - val_accuracy: 0.4325\n",
      "Epoch 13/50\n",
      "250/250 [==============================] - 245s 981ms/step - loss: 1.4044 - accuracy: 0.4562 - val_loss: 1.4899 - val_accuracy: 0.4568\n",
      "Epoch 14/50\n",
      "250/250 [==============================] - 266s 1s/step - loss: 1.3890 - accuracy: 0.4585 - val_loss: 1.5969 - val_accuracy: 0.4270\n",
      "Epoch 15/50\n",
      "250/250 [==============================] - 259s 1s/step - loss: 1.3663 - accuracy: 0.4692 - val_loss: 1.6804 - val_accuracy: 0.3640\n",
      "Epoch 16/50\n",
      "250/250 [==============================] - 259s 1s/step - loss: 1.3565 - accuracy: 0.4706 - val_loss: 1.4690 - val_accuracy: 0.4515\n",
      "Epoch 17/50\n",
      "250/250 [==============================] - 253s 1s/step - loss: 1.3396 - accuracy: 0.4706 - val_loss: 1.4724 - val_accuracy: 0.4525\n",
      "Epoch 18/50\n",
      "250/250 [==============================] - 252s 1s/step - loss: 1.3163 - accuracy: 0.4811 - val_loss: 1.5368 - val_accuracy: 0.4232\n",
      "Epoch 19/50\n",
      "250/250 [==============================] - 252s 1s/step - loss: 1.3004 - accuracy: 0.4829 - val_loss: 1.5698 - val_accuracy: 0.4300\n",
      "Epoch 20/50\n",
      "250/250 [==============================] - 259s 1s/step - loss: 1.2868 - accuracy: 0.4856 - val_loss: 1.7466 - val_accuracy: 0.3395\n",
      "Epoch 21/50\n",
      "250/250 [==============================] - 284s 1s/step - loss: 1.2733 - accuracy: 0.4957 - val_loss: 1.5132 - val_accuracy: 0.4570\n",
      "Epoch 22/50\n",
      "250/250 [==============================] - 256s 1s/step - loss: 1.2608 - accuracy: 0.4976 - val_loss: 1.5458 - val_accuracy: 0.4495\n",
      "Epoch 23/50\n",
      "250/250 [==============================] - 261s 1s/step - loss: 1.2479 - accuracy: 0.5054 - val_loss: 1.9014 - val_accuracy: 0.4490\n",
      "Epoch 24/50\n",
      "250/250 [==============================] - 246s 985ms/step - loss: 1.2395 - accuracy: 0.5042 - val_loss: 1.5387 - val_accuracy: 0.4475\n",
      "Epoch 25/50\n",
      "250/250 [==============================] - 245s 982ms/step - loss: 1.2293 - accuracy: 0.5080 - val_loss: 1.6674 - val_accuracy: 0.4538\n",
      "Epoch 26/50\n",
      "250/250 [==============================] - 245s 982ms/step - loss: 1.2147 - accuracy: 0.5099 - val_loss: 1.5958 - val_accuracy: 0.4548\n"
     ]
    }
   ],
   "source": [
    "model_gender = my_model(11,\"softmax\",'categorical_crossentropy')\n",
    "fit_gender = model_gender.fit(x_train,y_train , batch_size=batch_size,\n",
    "                              epochs = epochs, validation_data = (x_test,y_test), steps_per_epoch= x_train.shape[0] // batch_size, callbacks= [early_stopping])"
   ]
  },
  {
   "cell_type": "code",
   "execution_count": 42,
   "id": "77b26b3b",
   "metadata": {},
   "outputs": [
    {
     "data": {
      "text/plain": [
       "<matplotlib.image.AxesImage at 0x2937fdda8b0>"
      ]
     },
     "execution_count": 42,
     "metadata": {},
     "output_type": "execute_result"
    },
    {
     "data": {
      "image/png": "[encoded data removed]",
      "text/plain": [
       "<Figure size 432x288 with 1 Axes>"
      ]
     },
     "metadata": {
      "needs_background": "light"
     },
     "output_type": "display_data"
    }
   ],
   "source": [
    "plt.imshow(x_test[5])"
   ]
  },
  {
   "cell_type": "code",
   "execution_count": 43,
   "id": "e45e22d3",
   "metadata": {},
   "outputs": [
    {
     "data": {
      "text/plain": [
       "array([0, 1, 0, 0, 0, 0, 0, 0, 0, 0, 0])"
      ]
     },
     "execution_count": 43,
     "metadata": {},
     "output_type": "execute_result"
    }
   ],
   "source": [
    "y_test[5]"
   ]
  },
  {
   "cell_type": "code",
   "execution_count": 44,
   "id": "78c3848c",
   "metadata": {},
   "outputs": [
    {
     "name": "stdout",
     "output_type": "stream",
     "text": [
      "1/1 [==============================] - 0s 123ms/step\n",
      "1/1 [==============================] - 0s 64ms/step\n"
     ]
    }
   ],
   "source": [
    "ans = model_gender.predict(newmodel.predict(x_test[5].reshape(1,128,128,3)))"
   ]
  },
  {
   "cell_type": "code",
   "execution_count": 45,
   "id": "7653f3a3",
   "metadata": {},
   "outputs": [
    {
     "data": {
      "text/plain": [
       "2"
      ]
     },
     "execution_count": 45,
     "metadata": {},
     "output_type": "execute_result"
    }
   ],
   "source": [
    "ans = np.argmax(ans)\n",
    "ans"
   ]
  },
  {
   "cell_type": "code",
   "execution_count": 46,
   "id": "6fb0e70a",
   "metadata": {},
   "outputs": [
    {
     "name": "stderr",
     "output_type": "stream",
     "text": [
      "WARNING:absl:Found untraced functions such as _jit_compiled_convolution_op, _jit_compiled_convolution_op, _jit_compiled_convolution_op while saving (showing 3 of 3). These functions will not be directly callable after loading.\n"
     ]
    },
    {
     "name": "stdout",
     "output_type": "stream",
     "text": [
      "INFO:tensorflow:Assets written to: age_model_128.model\\assets\n"
     ]
    },
    {
     "name": "stderr",
     "output_type": "stream",
     "text": [
      "INFO:tensorflow:Assets written to: age_model_128.model\\assets\n"
     ]
    }
   ],
   "source": [
    "model_gender.save(\"age_model_128.model\")"
   ]
  },
  {
   "cell_type": "code",
   "execution_count": 48,
   "id": "436e233d",
   "metadata": {},
   "outputs": [
    {
     "data": {
      "image/png": "[encoded data removed]",
      "text/plain": [
       "<Figure size 432x288 with 1 Axes>"
      ]
     },
     "metadata": {},
     "output_type": "display_data"
    }
   ],
   "source": [
    "plt.style.use(\"ggplot\")\n",
    "plt.figure()\n",
    "N = 15\n",
    "plt.plot(np.arange(0,N), fit_gender.history[\"loss\"], label=\"train_loss\")\n",
    "plt.plot(np.arange(0,N), fit_gender.history[\"val_loss\"], label=\"val_loss\")\n",
    "plt.plot(np.arange(0,N), fit_gender.history[\"accuracy\"], label=\"train_acc\")\n",
    "plt.plot(np.arange(0,N), fit_gender.history[\"val_accuracy\"], label=\"val_acc\")\n",
    "\n",
    "plt.title(\"Training Loss and Accuracy for age model\")\n",
    "plt.xlabel(\"Epoch #\")\n",
    "plt.ylabel(\"Loss/Accuracy\")\n",
    "plt.legend(loc=\"upper right\")\n",
    "\n",
    "# save plot to disk\n",
    "plt.savefig('age_results.png')"
   ]
  },
  {
   "cell_type": "code",
   "execution_count": null,
   "id": "6ccf7c3b",
   "metadata": {},
   "outputs": [],
   "source": []
  }
 ],
 "metadata": {
  "kernelspec": {
   "display_name": "Python 3 (ipykernel)",
   "language": "python",
   "name": "python3"
  },
  "language_info": {
   "codemirror_mode": {
    "name": "ipython",
    "version": 3
   },
   "file_extension": ".py",
   "mimetype": "text/x-python",
   "name": "python",
   "nbconvert_exporter": "python",
   "pygments_lexer": "ipython3",
   "version": "3.9.7"
  }
 },
 "nbformat": 4,
 "nbformat_minor": 5
}
